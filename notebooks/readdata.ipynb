{
 "cells": [
  {
   "cell_type": "code",
   "execution_count": 3,
   "metadata": {},
   "outputs": [],
   "source": [
    "import argparse\n",
    "import pandas as pd\n",
    "from typing import Text\n",
    "import yaml\n",
    "from sklearn.compose import ColumnTransformer\n",
    "from sklearn.preprocessing import OneHotEncoder"
   ]
  },
  {
   "cell_type": "code",
   "execution_count": 4,
   "metadata": {},
   "outputs": [],
   "source": [
    "def renaming_fun(x):\n",
    "    if \"remainder__\" in x:\n",
    "        return x.strip('remainder__')\n",
    "    return x\n"
   ]
  },
  {
   "cell_type": "code",
   "execution_count": 35,
   "metadata": {},
   "outputs": [
    {
     "ename": "FileNotFoundError",
     "evalue": "[Errno 2] No such file or directory: '../params.yml'",
     "output_type": "error",
     "traceback": [
      "\u001b[1;31m---------------------------------------------------------------------------\u001b[0m",
      "\u001b[1;31mFileNotFoundError\u001b[0m                         Traceback (most recent call last)",
      "Cell \u001b[1;32mIn[35], line 42\u001b[0m\n\u001b[0;32m     38\u001b[0m     \u001b[38;5;28mprint\u001b[39m(X_processed_df)\n\u001b[0;32m     39\u001b[0m     \u001b[38;5;66;03m#logger.info('Save features')\u001b[39;00m\n\u001b[0;32m     40\u001b[0m     \u001b[38;5;66;03m#features_path = config['featurize']['features_path']\u001b[39;00m\n\u001b[0;32m     41\u001b[0m     \u001b[38;5;66;03m#X_processed_df.to_csv('data/feature/solarflares2.csv', index=False) \\\u001b[39;00m\n\u001b[1;32m---> 42\u001b[0m \u001b[43mfeaturize\u001b[49m\u001b[43m(\u001b[49m\u001b[43m)\u001b[49m\n",
      "Cell \u001b[1;32mIn[35], line 7\u001b[0m, in \u001b[0;36mfeaturize\u001b[1;34m()\u001b[0m\n\u001b[0;32m      1\u001b[0m \u001b[38;5;28;01mdef\u001b[39;00m \u001b[38;5;21mfeaturize\u001b[39m():\n\u001b[0;32m      2\u001b[0m \u001b[38;5;250m    \u001b[39m\u001b[38;5;124;03m\"\"\"Create new features.\u001b[39;00m\n\u001b[0;32m      3\u001b[0m \u001b[38;5;124;03m    Args:\u001b[39;00m\n\u001b[0;32m      4\u001b[0m \u001b[38;5;124;03m        config_path {Text}: path to config\u001b[39;00m\n\u001b[0;32m      5\u001b[0m \u001b[38;5;124;03m    \"\"\"\u001b[39;00m\n\u001b[1;32m----> 7\u001b[0m     \u001b[38;5;28;01mwith\u001b[39;00m \u001b[38;5;28;43mopen\u001b[39;49m\u001b[43m(\u001b[49m\u001b[38;5;124;43m'\u001b[39;49m\u001b[38;5;124;43m../params.yml\u001b[39;49m\u001b[38;5;124;43m'\u001b[39;49m\u001b[43m)\u001b[49m \u001b[38;5;28;01mas\u001b[39;00m conf_file:\n\u001b[0;32m      8\u001b[0m         config \u001b[38;5;241m=\u001b[39m yaml\u001b[38;5;241m.\u001b[39msafe_load(conf_file)\n\u001b[0;32m     10\u001b[0m     \u001b[38;5;66;03m#logger = get_logger('FEATURIZE', log_level=config['base']['log_level'])\u001b[39;00m\n\u001b[0;32m     11\u001b[0m \n\u001b[0;32m     12\u001b[0m     \u001b[38;5;66;03m#logger.info('Load raw data')\u001b[39;00m\n",
      "File \u001b[1;32mc:\\Users\\eric1\\OneDrive\\Documentos\\Jupyter\\ML\\MLOPS\\SolarFlares\\.mlops\\lib\\site-packages\\IPython\\core\\interactiveshell.py:310\u001b[0m, in \u001b[0;36m_modified_open\u001b[1;34m(file, *args, **kwargs)\u001b[0m\n\u001b[0;32m    303\u001b[0m \u001b[38;5;28;01mif\u001b[39;00m file \u001b[38;5;129;01min\u001b[39;00m {\u001b[38;5;241m0\u001b[39m, \u001b[38;5;241m1\u001b[39m, \u001b[38;5;241m2\u001b[39m}:\n\u001b[0;32m    304\u001b[0m     \u001b[38;5;28;01mraise\u001b[39;00m \u001b[38;5;167;01mValueError\u001b[39;00m(\n\u001b[0;32m    305\u001b[0m         \u001b[38;5;124mf\u001b[39m\u001b[38;5;124m\"\u001b[39m\u001b[38;5;124mIPython won\u001b[39m\u001b[38;5;124m'\u001b[39m\u001b[38;5;124mt let you open fd=\u001b[39m\u001b[38;5;132;01m{\u001b[39;00mfile\u001b[38;5;132;01m}\u001b[39;00m\u001b[38;5;124m by default \u001b[39m\u001b[38;5;124m\"\u001b[39m\n\u001b[0;32m    306\u001b[0m         \u001b[38;5;124m\"\u001b[39m\u001b[38;5;124mas it is likely to crash IPython. If you know what you are doing, \u001b[39m\u001b[38;5;124m\"\u001b[39m\n\u001b[0;32m    307\u001b[0m         \u001b[38;5;124m\"\u001b[39m\u001b[38;5;124myou can use builtins\u001b[39m\u001b[38;5;124m'\u001b[39m\u001b[38;5;124m open.\u001b[39m\u001b[38;5;124m\"\u001b[39m\n\u001b[0;32m    308\u001b[0m     )\n\u001b[1;32m--> 310\u001b[0m \u001b[38;5;28;01mreturn\u001b[39;00m io_open(file, \u001b[38;5;241m*\u001b[39margs, \u001b[38;5;241m*\u001b[39m\u001b[38;5;241m*\u001b[39mkwargs)\n",
      "\u001b[1;31mFileNotFoundError\u001b[0m: [Errno 2] No such file or directory: '../params.yml'"
     ]
    }
   ],
   "source": [
    "def featurize():\n",
    "    \"\"\"Create new features.\n",
    "    Args:\n",
    "        config_path {Text}: path to config\n",
    "    \"\"\"\n",
    "\n",
    "    with open('../params.yml') as conf_file:\n",
    "        config = yaml.safe_load(conf_file)\n",
    "\n",
    "    #logger = get_logger('FEATURIZE', log_level=config['base']['log_level'])\n",
    "\n",
    "    #logger.info('Load raw data')\n",
    "    print(config['data_load']['dataset_procesed'])\n",
    "    dataset = pd.read_csv(config['data_load']['dataset_procesed'],index=False)\n",
    "\n",
    "    # Drop columns\n",
    "    cols_to_drop = config['featurize']['cols_to_drop']\n",
    "    X = dataset.drop(cols_to_drop, axis=1)\n",
    "\n",
    "    #logger.info('Extract features')\n",
    "    # Define categorical features\n",
    "    categorical_features = config['featurize']['categorical_features']\n",
    "\n",
    "    # Create a column transformer with one-hot encoding\n",
    "    preprocessor = ColumnTransformer(\n",
    "        transformers=[\n",
    "            ('cat', OneHotEncoder(), categorical_features)\n",
    "        ],\n",
    "        remainder='passthrough'\n",
    "    )\n",
    "\n",
    "    X_processed = preprocessor.fit_transform(X)\n",
    "    # Convert processed X array into dataframe\n",
    "    X_processed_df = pd.DataFrame(X_processed, columns=preprocessor.get_feature_names_out())\n",
    "    print(X_processed_df)\n",
    "    # Clean column names\n",
    "    X_processed_df.columns = [renaming_fun(col) for col in X_processed_df.columns]\n",
    "    print(X_processed_df)\n",
    "    #logger.info('Save features')\n",
    "    #features_path = config['featurize']['features_path']\n",
    "    #X_processed_df.to_csv('data/feature/solarflares2.csv', index=False) \\\n",
    "featurize()"
   ]
  },
  {
   "cell_type": "code",
   "execution_count": 25,
   "metadata": {},
   "outputs": [
    {
     "name": "stdout",
     "output_type": "stream",
     "text": [
      "El directorio actual es: c:\\Users\\eric1\\OneDrive\\Documentos\\Jupyter\\ML\\MLOPS\\SolarFlares\\notebooks\n"
     ]
    }
   ],
   "source": [
    "import os\n",
    "\n",
    "# Obtener el directorio actual\n",
    "directorio_actual = os.getcwd()\n",
    "\n",
    "# Imprimir el directorio actual\n",
    "print(f\"El directorio actual es: {directorio_actual}\")"
   ]
  },
  {
   "cell_type": "code",
   "execution_count": null,
   "metadata": {},
   "outputs": [],
   "source": []
  }
 ],
 "metadata": {
  "kernelspec": {
   "display_name": ".mlops",
   "language": "python",
   "name": "python3"
  },
  "language_info": {
   "codemirror_mode": {
    "name": "ipython",
    "version": 3
   },
   "file_extension": ".py",
   "mimetype": "text/x-python",
   "name": "python",
   "nbconvert_exporter": "python",
   "pygments_lexer": "ipython3",
   "version": "3.9.9"
  }
 },
 "nbformat": 4,
 "nbformat_minor": 2
}
